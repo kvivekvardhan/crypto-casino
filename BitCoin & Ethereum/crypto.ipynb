{
 "cells": [
  {
   "cell_type": "markdown",
   "id": "775dd3b0",
   "metadata": {},
   "source": [
    "## 1. SHA-256 Hashing\n",
    "Bitcoin relies on SHA-256 for both transaction hashing and block hashing."
   ]
  },
  {
   "cell_type": "code",
   "execution_count": 1,
   "id": "452a78cb",
   "metadata": {},
   "outputs": [
    {
     "name": "stdout",
     "output_type": "stream",
     "text": [
      "The SHA-256 hash of the message is: dffd6021bb2bd5b0af676290809ec3a53191dd81c7f70a4b28688a362182986f\n"
     ]
    }
   ],
   "source": [
    "import hashlib\n",
    "message = \"Hello, World!\"\n",
    "hash = hashlib.sha256(message.encode()).hexdigest()\n",
    "print(f\"The SHA-256 hash of the message is: {hash}\")"
   ]
  },
  {
   "cell_type": "markdown",
   "id": "ef749d6c",
   "metadata": {},
   "source": [
    "## 2. Proof of Work (PoW)\n",
    "Bitcoin uses Proof-of-Work to achieve distributed consensus and prevent spam.  \n",
    "Miners try different nonces until they find a hash with a required number of leading zeros."
   ]
  },
  {
   "cell_type": "code",
   "execution_count": 2,
   "id": "e6092d64",
   "metadata": {},
   "outputs": [
    {
     "name": "stdout",
     "output_type": "stream",
     "text": [
      "Found nonce: 4460399\n",
      "Hash: 0000025e7d74d1588051ed6faf036e57c0b4b0e7698b0d6f60cce26ba3fda709\n"
     ]
    }
   ],
   "source": [
    "import hashlib\n",
    "\n",
    "prefix = \"vivekvardhankomarapu@gmail.com:2025-05-31:\"\n",
    "nonce = 0\n",
    "\n",
    "while True:\n",
    "    data = prefix + str(nonce)\n",
    "    hash_result = hashlib.sha256(data.encode()).hexdigest()\n",
    "    if hash_result.startswith(\"00000\"):  # looking for 8 leading zeros\n",
    "        print(f\"Found nonce: {nonce}\")\n",
    "        print(f\"Hash: {hash_result}\")\n",
    "        break\n",
    "    nonce += 1\n"
   ]
  },
  {
   "cell_type": "markdown",
   "id": "60acf962",
   "metadata": {},
   "source": [
    "# Proof of work"
   ]
  },
  {
   "cell_type": "code",
   "execution_count": 3,
   "id": "858fc7b8",
   "metadata": {},
   "outputs": [
    {
     "name": "stdout",
     "output_type": "stream",
     "text": [
      "Nonce: 13729\n",
      "Hash: 000074545c3cb8c3d2cc05d8048667c9f27355bbd6da80adc886df4b4678922a\n",
      "Time taken: 0.01 seconds\n"
     ]
    },
    {
     "data": {
      "text/plain": [
       "(13729, '000074545c3cb8c3d2cc05d8048667c9f27355bbd6da80adc886df4b4678922a')"
      ]
     },
     "execution_count": 3,
     "metadata": {},
     "output_type": "execute_result"
    }
   ],
   "source": [
    "import hashlib\n",
    "import time\n",
    "\n",
    "def proof_of_work(block_data, difficulty):\n",
    "    nonce = 0\n",
    "    prefix = '0' * difficulty\n",
    "    start_time = time.time()\n",
    "\n",
    "    while True:\n",
    "        text = block_data + str(nonce)\n",
    "        hash_result = hashlib.sha256(text.encode()).hexdigest()\n",
    "        if hash_result.startswith(prefix):\n",
    "            duration = time.time() - start_time\n",
    "            print(f\"Nonce: {nonce}\")\n",
    "            print(f\"Hash: {hash_result}\")\n",
    "            print(f\"Time taken: {duration:.2f} seconds\")\n",
    "            return nonce, hash_result\n",
    "        nonce += 1\n",
    "\n",
    "block_data = \"Block #1 transactions\"\n",
    "difficulty = 4  # Adjust for more/less difficulty\n",
    "proof_of_work(block_data, difficulty)\n"
   ]
  },
  {
   "cell_type": "markdown",
   "id": "16ceee67",
   "metadata": {},
   "source": [
    "## 3. Merkle Trees 🌳\n",
    "Bitcoin uses Merkle Trees to efficiently summarize all transactions in a block.\n",
    "\n",
    "- Each transaction is hashed.\n",
    "- Hash pairs are combined up to form the Merkle Root."
   ]
  },
  {
   "cell_type": "code",
   "execution_count": 4,
   "id": "f154a954",
   "metadata": {},
   "outputs": [
    {
     "name": "stdout",
     "output_type": "stream",
     "text": [
      "Merkle Root: 773bc304a3b0a626a520a8d6eacc36809ac18c0b174f3ff3cdaf0a4e9c64433d\n"
     ]
    }
   ],
   "source": [
    "import hashlib\n",
    "\n",
    "def hash(data):\n",
    "    return hashlib.sha256(data.encode()).hexdigest()\n",
    "\n",
    "def merkle_root(transactions):\n",
    "    if not transactions:\n",
    "        return None\n",
    "\n",
    "    hashes = [hash(tx) for tx in transactions]\n",
    "\n",
    "    while len(hashes) > 1:\n",
    "        temp = []\n",
    "        for i in range(0, len(hashes), 2):\n",
    "            left = hashes[i]\n",
    "            right = hashes[i + 1] if i + 1 < len(hashes) else left  # duplicate if odd number\n",
    "            temp.append(hash(left + right))\n",
    "        hashes = temp\n",
    "\n",
    "    return hashes[0]\n",
    "\n",
    "transactions = [\"tx1\", \"tx2\", \"tx3\", \"tx4\"]\n",
    "root = merkle_root(transactions)\n",
    "print(f\"Merkle Root: {root}\")\n"
   ]
  },
  {
   "cell_type": "markdown",
   "id": "0167d5dd",
   "metadata": {},
   "source": [
    "## 4. Digital Signatures ✍️ (ECDSA)\n",
    "Bitcoin uses ECDSA (Elliptic Curve Digital Signature Algorithm) to sign transactions.\n",
    "This ensures authenticity and prevents tampering."
   ]
  },
  {
   "cell_type": "code",
   "execution_count": null,
   "id": "4791ad48",
   "metadata": {},
   "outputs": [
    {
     "name": "stdout",
     "output_type": "stream",
     "text": [
      "Signature: 8cf6c8e66f4bb3ec37d69596cc6d83ccd560474c9e24d23ceb5a7c4fd5a804cccddb774a996c2abcae802f7940974162ba63e63c1a139b583fe5072d922a983c\n",
      "Signature verified! ✅\n"
     ]
    }
   ],
   "source": [
    "from ecdsa import SigningKey, SECP256k1\n",
    "\n",
    "# Generate private and public key\n",
    "private_key = SigningKey.generate(curve=SECP256k1)\n",
    "public_key = private_key.verifying_key\n",
    "\n",
    "message = b\"Send 10 BTC to Vivek\"\n",
    "\n",
    "# Sign\n",
    "signature = private_key.sign(message)\n",
    "print(f\"Signature: {signature.hex()}\")\n",
    "\n",
    "# Verify\n",
    "if public_key.verify(signature, message):\n",
    "    print(\"Signature verified! ✅\")\n",
    "else:\n",
    "    print(\"Signature verification failed ❌\")\n"
   ]
  },
  {
   "cell_type": "markdown",
   "id": "5d31b036",
   "metadata": {},
   "source": [
    "## 5. Simple Blockchain Structure 📦\n",
    "Below is a very simplified blockchain:\n",
    "- Each block contains index, timestamp, data, previous hash, and current hash.\n",
    "- Blocks are linked via the previous hash (creating the blockchain)."
   ]
  },
  {
   "cell_type": "code",
   "execution_count": 6,
   "id": "08c531a2",
   "metadata": {},
   "outputs": [
    {
     "name": "stdout",
     "output_type": "stream",
     "text": [
      "Block 1 hash: f2d764116d059207b814ab808933c90692411183fa47016ad1a9a2d45eaa16dd\n",
      "Block 2 hash: dfdf441c208315c6d63f39b8745172577be13744d582ace95dc4eb40e8a55b3f\n",
      "Block 3 hash: aa6dec864872dbfc5a8f4c84b458a16935a949480f9b85c5ce93f8ee8fabfee7\n"
     ]
    }
   ],
   "source": [
    "import hashlib\n",
    "import time\n",
    "\n",
    "class Block:\n",
    "    def __init__(self, index, data, previous_hash):\n",
    "        self.index = index\n",
    "        self.timestamp = time.time()\n",
    "        self.data = data\n",
    "        self.previous_hash = previous_hash\n",
    "        self.hash = self.calculate_hash()\n",
    "\n",
    "    def calculate_hash(self):\n",
    "        block_content = f\"{self.index}{self.timestamp}{self.data}{self.previous_hash}\"\n",
    "        return hashlib.sha256(block_content.encode()).hexdigest()\n",
    "\n",
    "# Create blockchain\n",
    "blockchain = []\n",
    "genesis_block = Block(0, \"Genesis Block\", \"0\")\n",
    "blockchain.append(genesis_block)\n",
    "\n",
    "# Add more blocks\n",
    "for i in range(1, 4):\n",
    "    new_block = Block(i, f\"Block {i} Data\", blockchain[-1].hash)\n",
    "    blockchain.append(new_block)\n",
    "    print(f\"Block {i} hash: {new_block.hash}\")\n"
   ]
  },
  {
   "cell_type": "markdown",
   "id": "e6e44769",
   "metadata": {},
   "source": [
    "# Ethereum Basics\n",
    "## Ethereum vs Bitcoin: Quick Conceptual Differences\n",
    "\n",
    "| Feature     | Bitcoin                        | Ethereum                        |\n",
    "| ----------- | ------------------------------ | ------------------------------- |\n",
    "| Purpose     | Digital Currency               | Smart Contract Platform         |\n",
    "| Scripting   | Limited                        | Full Turing-complete (Solidity) |\n",
    "| Consensus   | PoW (Later → PoS for Ethereum) | PoW → PoS (Post Merge)          |\n",
    "| Block Time  | \\~10 minutes                   | \\~12 seconds                    |\n",
    "| Native Coin | BTC                            | ETH                             |"
   ]
  },
  {
   "cell_type": "markdown",
   "id": "727d3902",
   "metadata": {},
   "source": [
    "# Ethereum account generation"
   ]
  },
  {
   "cell_type": "code",
   "execution_count": null,
   "id": "719c28b0",
   "metadata": {},
   "outputs": [
    {
     "name": "stdout",
     "output_type": "stream",
     "text": [
      "Private Key: 0x0101010101010101010101010101010101010101010101010101010101010101\n",
      "Public Key: 0x1b84c5567b126440995d3ed5aaba0565d71e1834604819ff9c17f5e9d5dd078f70beaf8f588b541507fed6a642c5ab42dfdf8120a7f639de5122d47a69a8e8d1\n",
      "Ethereum Address: 0x1a642f0E3c3aF545E7AcBD38b07251B3990914F1\n"
     ]
    }
   ],
   "source": [
    "from eth_keys import keys\n",
    "\n",
    "# Simple private key\n",
    "private_key_bytes = b'\\x01' * 32\n",
    "private_key = keys.PrivateKey(private_key_bytes)\n",
    "\n",
    "public_key = private_key.public_key\n",
    "address = public_key.to_checksum_address()\n",
    "\n",
    "print(f\"Private Key: {private_key}\")\n",
    "print(f\"Public Key: {public_key}\")\n",
    "print(f\"Ethereum Address: {address}\")\n"
   ]
  },
  {
   "cell_type": "markdown",
   "id": "60be9fa7",
   "metadata": {},
   "source": [
    "## Keccak256 Hashing (Ethereum's hashing algorithm)"
   ]
  },
  {
   "cell_type": "code",
   "execution_count": 3,
   "id": "19b529bb",
   "metadata": {},
   "outputs": [
    {
     "name": "stdout",
     "output_type": "stream",
     "text": [
      "Keccak256 Hash: 3d92dde6c0784709bb83eb6704bc10e8a2d7ed68859e82cb1c02ea3530f338b0\n"
     ]
    }
   ],
   "source": [
    "from eth_utils import keccak\n",
    "\n",
    "data = b'All roads lead to me'\n",
    "hash_result = keccak(data)\n",
    "print(f\"Keccak256 Hash: {hash_result.hex()}\")\n"
   ]
  }
 ],
 "metadata": {
  "kernelspec": {
   "display_name": "Python 3",
   "language": "python",
   "name": "python3"
  },
  "language_info": {
   "codemirror_mode": {
    "name": "ipython",
    "version": 3
   },
   "file_extension": ".py",
   "mimetype": "text/x-python",
   "name": "python",
   "nbconvert_exporter": "python",
   "pygments_lexer": "ipython3",
   "version": "3.12.10"
  }
 },
 "nbformat": 4,
 "nbformat_minor": 5
}
